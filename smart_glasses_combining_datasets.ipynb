{
 "cells": [
  {
   "cell_type": "code",
   "execution_count": null,
   "metadata": {
    "colab": {
     "base_uri": "https://localhost:8080/"
    },
    "id": "D0GDLR9bmHhq",
    "outputId": "9afe8c26-7063-4919-d148-cb3c28bda2c2"
   },
   "outputs": [
    {
     "name": "stdout",
     "output_type": "stream",
     "text": [
      "Mounted at /content/drive\n"
     ]
    }
   ],
   "source": [
    "from google.colab import drive\n",
    "drive.mount('/content/drive')\n"
   ]
  },
  {
   "cell_type": "code",
   "execution_count": null,
   "metadata": {
    "id": "qLpmQMrEm7wP"
   },
   "outputs": [],
   "source": [
    "import zipfile\n",
    "import shutil\n",
    "import random\n",
    "import os"
   ]
  },
  {
   "cell_type": "code",
   "execution_count": null,
   "metadata": {
    "id": "agmtDni_m3uc"
   },
   "outputs": [],
   "source": [
    "def unzip_file(zip_file_path, extract_to_path):\n",
    "    os.makedirs(extract_to_path, exist_ok=True)\n",
    "    with zipfile.ZipFile(zip_file_path, 'r') as zip_ref:\n",
    "        zip_ref.extractall(extract_to_path)"
   ]
  },
  {
   "cell_type": "code",
   "execution_count": null,
   "metadata": {
    "id": "1YI7TDKRm3sP"
   },
   "outputs": [],
   "source": [
    "unzip_file(\"/content/drive/MyDrive/smart_glasses/coco_subset.zip\", \"./coco_subset\")"
   ]
  },
  {
   "cell_type": "code",
   "execution_count": null,
   "metadata": {
    "id": "1N7yeoWSm3p5"
   },
   "outputs": [],
   "source": [
    "unzip_file(\"/content/drive/MyDrive/smart_glasses/smart_glasses/Hands_dataset_fixed_index.zip\", \"./Hands_dataset_fixed_index\")"
   ]
  },
  {
   "cell_type": "code",
   "execution_count": null,
   "metadata": {
    "id": "Yjapziofm3nk"
   },
   "outputs": [],
   "source": [
    "unzip_file(\"/content/drive/MyDrive/smart_glasses/smart_glasses/Robo_flow_dataset_fixed_index.zip\", \"./Robo_flow_dataset_fixed_index\")"
   ]
  },
  {
   "cell_type": "code",
   "execution_count": null,
   "metadata": {
    "id": "k7V8FKNNnuA_"
   },
   "outputs": [],
   "source": [
    "unzip_file(\"/content/drive/MyDrive/smart_glasses/smart_glasses/my_DS10(faces)_fixed_index.zip\", \"./my_DS10(faces)_fixed_index\")"
   ]
  },
  {
   "cell_type": "code",
   "execution_count": null,
   "metadata": {
    "id": "j1UvgamYtOp7"
   },
   "outputs": [],
   "source": []
  },
  {
   "cell_type": "code",
   "execution_count": null,
   "metadata": {
    "colab": {
     "base_uri": "https://localhost:8080/"
    },
    "id": "FR8ZiCDGpUlb",
    "outputId": "81c855e3-efc2-4f7c-9f9b-3f69881c22c2"
   },
   "outputs": [
    {
     "data": {
      "text/plain": [
       "['/content/Robo_flow_dataset_fixed_index/my_DS1/my_DS1',\n",
       " '/content/Robo_flow_dataset_fixed_index/my_DS2/my_DS2',\n",
       " '/content/Robo_flow_dataset_fixed_index/my_DS3/my_DS3',\n",
       " '/content/Robo_flow_dataset_fixed_index/my_DS4/my_DS4',\n",
       " '/content/Robo_flow_dataset_fixed_index/my_DS5/my_DS5',\n",
       " '/content/Robo_flow_dataset_fixed_index/my_DS6/my_DS6',\n",
       " '/content/Robo_flow_dataset_fixed_index/my_DS7/my_DS7',\n",
       " '/content/Robo_flow_dataset_fixed_index/my_DS8/my_DS8',\n",
       " '/content/Robo_flow_dataset_fixed_index/my_DS9/my_DS9']"
      ]
     },
     "execution_count": 8,
     "metadata": {},
     "output_type": "execute_result"
    }
   ],
   "source": [
    "dataset_paths = [f\"/content/Robo_flow_dataset_fixed_index/my_DS{i+1}/my_DS{i+1}\" for i in range(9)]\n",
    "dataset_paths"
   ]
  },
  {
   "cell_type": "code",
   "execution_count": null,
   "metadata": {
    "colab": {
     "base_uri": "https://localhost:8080/"
    },
    "id": "HlJ3U1WOn5IH",
    "outputId": "8c917c94-5f35-4303-ccf1-0c9955859cf1"
   },
   "outputs": [
    {
     "name": "stdout",
     "output_type": "stream",
     "text": [
      "Datasets merged and split successfully!\n"
     ]
    }
   ],
   "source": [
    "dataset_paths = dataset_paths + ['/content/coco_subset', '/content/Hands_dataset_fixed_index', ]\n",
    "combined_path = '/content/combined_dataset'\n",
    "train_path = '/content/combined_dataset/train'\n",
    "test_path = '/content/combined_dataset/val'\n",
    "train_img_path = '/content/combined_dataset/train/images'\n",
    "test_img_path = '/content/combined_dataset/val/images'\n",
    "train_labels_path = '/content/combined_dataset/train/labels'\n",
    "test_labels_path = '/content/combined_dataset/val/labels'\n",
    "split_ratio = 0.8  # For 80-20 split\n",
    "\n",
    "# Create directories if they don't exist\n",
    "os.makedirs(combined_path, exist_ok=True)\n",
    "os.makedirs(train_path, exist_ok=True)\n",
    "os.makedirs(test_path, exist_ok=True)\n",
    "os.makedirs(train_img_path, exist_ok=True)\n",
    "os.makedirs(test_img_path, exist_ok=True)\n",
    "os.makedirs(train_labels_path, exist_ok=True)\n",
    "os.makedirs(test_labels_path, exist_ok=True)\n",
    "\n",
    "# Combine datasets\n",
    "images = []\n",
    "annotations = []\n",
    "\n",
    "for dataset_path in dataset_paths:\n",
    "    images.extend([os.path.join(dataset_path, 'images', f) for f in os.listdir(os.path.join(dataset_path, 'images'))])\n",
    "    annotations.extend([os.path.join(dataset_path, 'labels', f) for f in os.listdir(os.path.join(dataset_path, 'labels'))])\n",
    "\n",
    "# Shuffle the dataset\n",
    "combined = list(zip(images, annotations))\n",
    "random.shuffle(combined)\n",
    "images, annotations = zip(*combined)\n",
    "\n",
    "# Split the dataset\n",
    "train_count = int(len(images) * split_ratio)\n",
    "\n",
    "train_images = images[:train_count]\n",
    "train_annotations = annotations[:train_count]\n",
    "\n",
    "test_images = images[train_count:]\n",
    "test_annotations = annotations[train_count:]\n",
    "\n",
    "# Copy files to train and test directories\n",
    "for img, ann in zip(train_images, train_annotations):\n",
    "    shutil.copy(img, os.path.join(train_path, 'images'))\n",
    "    shutil.copy(ann, os.path.join(train_path, 'labels'))\n",
    "\n",
    "for img, ann in zip(test_images, test_annotations):\n",
    "    shutil.copy(img, os.path.join(test_path, 'images'))\n",
    "    shutil.copy(ann, os.path.join(test_path, 'labels'))\n",
    "\n",
    "print(\"Datasets merged and split successfully!\")\n"
   ]
  },
  {
   "cell_type": "code",
   "execution_count": null,
   "metadata": {
    "colab": {
     "base_uri": "https://localhost:8080/"
    },
    "id": "G4PgYlk4pzre",
    "outputId": "bae1977e-8408-403b-fb8c-d322c08ef92a"
   },
   "outputs": [
    {
     "data": {
      "text/plain": [
       "38255"
      ]
     },
     "execution_count": 14,
     "metadata": {},
     "output_type": "execute_result"
    }
   ],
   "source": [
    "len(os.listdir(\"/content/combined_dataset/train/labels\"))"
   ]
  },
  {
   "cell_type": "code",
   "execution_count": null,
   "metadata": {
    "colab": {
     "base_uri": "https://localhost:8080/"
    },
    "id": "PFFKKFDPqtnd",
    "outputId": "f4974cd9-b626-46a7-92ab-000e1b8bf3bf"
   },
   "outputs": [
    {
     "data": {
      "text/plain": [
       "38255"
      ]
     },
     "execution_count": 15,
     "metadata": {},
     "output_type": "execute_result"
    }
   ],
   "source": [
    "len(os.listdir(\"/content/combined_dataset/train/images\"))"
   ]
  },
  {
   "cell_type": "code",
   "execution_count": null,
   "metadata": {
    "colab": {
     "base_uri": "https://localhost:8080/"
    },
    "id": "nH7sjt98qtkd",
    "outputId": "9401360d-1af7-4514-dcab-372312fbb8ba"
   },
   "outputs": [
    {
     "data": {
      "text/plain": [
       "17069"
      ]
     },
     "execution_count": 16,
     "metadata": {},
     "output_type": "execute_result"
    }
   ],
   "source": [
    "len(os.listdir(\"/content/combined_dataset/val/labels\"))"
   ]
  },
  {
   "cell_type": "code",
   "execution_count": null,
   "metadata": {
    "colab": {
     "base_uri": "https://localhost:8080/"
    },
    "id": "EOq3CtqiqteT",
    "outputId": "8beed2a2-9962-4dfa-bcbf-8445fee00140"
   },
   "outputs": [
    {
     "data": {
      "text/plain": [
       "17069"
      ]
     },
     "execution_count": 17,
     "metadata": {},
     "output_type": "execute_result"
    }
   ],
   "source": [
    "len(os.listdir(\"/content/combined_dataset/val/images\"))"
   ]
  },
  {
   "cell_type": "code",
   "execution_count": null,
   "metadata": {
    "id": "SBg193uYrC6q"
   },
   "outputs": [],
   "source": [
    "classes_names = [\"bed\",\n",
    "                  \"desk\",\n",
    "                  \"table\",\n",
    "                  \"door\",\n",
    "                  \"fridge\",\n",
    "                  \"toilet\",\n",
    "                  \"sofa\",\n",
    "                  \"sink\",\n",
    "                  \"microwave\",\n",
    "                  \"chair\",\n",
    "                  \"fan\",\n",
    "                  \"closet\",\n",
    "                  \"stairs\",\n",
    "                  \"crosswalk\",\n",
    "                  \"pedestrian Traffic Light (walk)\",\n",
    "                  \"pedestrian Traffic Light (stop)\",\n",
    "                  \"person\",\n",
    "                  \"bicycle\",\n",
    "                  \"car\",\n",
    "                  \"motorcycle\",\n",
    "                  \"bus\",\n",
    "                  \"bench\",\n",
    "                  \"faces\",\n",
    "                  \"A\",\n",
    "                  \"B\",\n",
    "                  \"W\",\n",
    "                  \"Y\"]"
   ]
  },
  {
   "cell_type": "code",
   "execution_count": null,
   "metadata": {
    "colab": {
     "base_uri": "https://localhost:8080/"
    },
    "id": "c2RmbzdXq1-A",
    "outputId": "42175978-4e7c-40a9-c1d4-59aad58aedae"
   },
   "outputs": [
    {
     "data": {
      "text/plain": [
       "27"
      ]
     },
     "execution_count": 19,
     "metadata": {},
     "output_type": "execute_result"
    }
   ],
   "source": [
    "len(classes_names)"
   ]
  },
  {
   "cell_type": "code",
   "execution_count": null,
   "metadata": {
    "id": "HfVFUEj4rFJB"
   },
   "outputs": [],
   "source": [
    "def zip_folders(main_folder_path, output_zip_file):\n",
    "    with zipfile.ZipFile(output_zip_file, 'w', zipfile.ZIP_DEFLATED) as zipf:\n",
    "        for folder_name in os.listdir(main_folder_path):\n",
    "            folder_path = os.path.join(main_folder_path, folder_name)\n",
    "            if os.path.isdir(folder_path):\n",
    "                for root, dirs, files in os.walk(folder_path):\n",
    "                    for file in files:\n",
    "                        file_path = os.path.join(root, file)\n",
    "                        arcname = os.path.relpath(file_path, main_folder_path)\n",
    "                        zipf.write(file_path, arcname)"
   ]
  },
  {
   "cell_type": "code",
   "execution_count": null,
   "metadata": {
    "colab": {
     "base_uri": "https://localhost:8080/"
    },
    "id": "8vbQD4hiQFEW",
    "outputId": "de4594a3-2ba5-46a7-f5d5-5ea8d1f74e9c"
   },
   "outputs": [
    {
     "name": "stdout",
     "output_type": "stream",
     "text": [
      "Zip file size: 1287862197 bytes\n"
     ]
    }
   ],
   "source": [
    "zip_size = os.path.getsize(\"/content/drive/MyDrive/smart_glasses/coco_subset.zip\")\n",
    "print(f'Zip file size: {zip_size} bytes')"
   ]
  },
  {
   "cell_type": "code",
   "execution_count": null,
   "metadata": {
    "id": "cbfwsd-xr3BE"
   },
   "outputs": [],
   "source": [
    "main_folder_path = '/content/combined_dataset'\n",
    "output_zip_file = 'combined_dataset.zip'\n",
    "zip_folders(main_folder_path, output_zip_file)"
   ]
  },
  {
   "cell_type": "code",
   "execution_count": null,
   "metadata": {
    "colab": {
     "base_uri": "https://localhost:8080/"
    },
    "id": "2RXaJEhTr79v",
    "outputId": "bd034519-4cc7-4eda-f526-bc93a5698807"
   },
   "outputs": [
    {
     "name": "stdout",
     "output_type": "stream",
     "text": [
      "Zip file size: 3118927915 bytes\n"
     ]
    }
   ],
   "source": [
    "zip_size = os.path.getsize(\"combined_dataset.zip\")\n",
    "print(f'Zip file size: {zip_size} bytes')"
   ]
  },
  {
   "cell_type": "code",
   "execution_count": null,
   "metadata": {
    "colab": {
     "base_uri": "https://localhost:8080/",
     "height": 35
    },
    "id": "nSjoyNFgr90z",
    "outputId": "00f81a65-83cf-400b-bb15-9fc38ab44a39"
   },
   "outputs": [
    {
     "data": {
      "application/vnd.google.colaboratory.intrinsic+json": {
       "type": "string"
      },
      "text/plain": [
       "'/content/drive/MyDrive/smart_glasses/combined_dataset.zip'"
      ]
     },
     "execution_count": 24,
     "metadata": {},
     "output_type": "execute_result"
    }
   ],
   "source": [
    "source_path = 'combined_dataset.zip'\n",
    "destination_path = '/content/drive/MyDrive/smart_glasses/combined_dataset.zip'\n",
    "shutil.move(source_path, destination_path)\n"
   ]
  },
  {
   "cell_type": "code",
   "execution_count": null,
   "metadata": {
    "id": "IBj4PrnZtcHs"
   },
   "outputs": [],
   "source": []
  }
 ],
 "metadata": {
  "colab": {
   "provenance": []
  },
  "kernelspec": {
   "display_name": "Python 3 (ipykernel)",
   "language": "python",
   "name": "python3"
  },
  "language_info": {
   "codemirror_mode": {
    "name": "ipython",
    "version": 3
   },
   "file_extension": ".py",
   "mimetype": "text/x-python",
   "name": "python",
   "nbconvert_exporter": "python",
   "pygments_lexer": "ipython3",
   "version": "3.12.7"
  }
 },
 "nbformat": 4,
 "nbformat_minor": 4
}
